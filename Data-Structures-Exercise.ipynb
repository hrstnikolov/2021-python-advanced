{
 "cells": [
  {
   "cell_type": "markdown",
   "id": "89643067-9c7c-457b-9ef6-72a236feb677",
   "metadata": {},
   "source": [
    "# 5. Data Structures\n",
    "\n",
    "From https://docs.python.org/3/tutorial/datastructures.html#looping-techniques."
   ]
  },
  {
   "cell_type": "markdown",
   "id": "eaef7195-72aa-49fe-a5f4-78de688187be",
   "metadata": {},
   "source": [
    "## 5.1. More on Lists"
   ]
  },
  {
   "cell_type": "markdown",
   "id": "ba4a3e12-629a-4e73-a6e5-e38be69f3076",
   "metadata": {},
   "source": [
    "Write custom `list.extend()`."
   ]
  },
  {
   "cell_type": "code",
   "execution_count": 13,
   "id": "6d42a24a-51c1-4f80-b28c-45c7be822118",
   "metadata": {
    "collapsed": true,
    "jupyter": {
     "outputs_hidden": true
    },
    "tags": []
   },
   "outputs": [],
   "source": [
    "ll = list('abcd')\n",
    "ll2 = list('12')"
   ]
  },
  {
   "cell_type": "code",
   "execution_count": 16,
   "id": "63f42195-32c0-42e5-9667-50f8df78cf03",
   "metadata": {
    "collapsed": true,
    "jupyter": {
     "outputs_hidden": true,
     "source_hidden": true
    }
   },
   "outputs": [
    {
     "data": {
      "text/plain": [
       "['a', 'b', 'c', 'd', '1', '2', '1', '2', '1', '2']"
      ]
     },
     "execution_count": 16,
     "metadata": {},
     "output_type": "execute_result"
    }
   ],
   "source": [
    "ll[len(ll):]= ll2\n",
    "ll"
   ]
  },
  {
   "cell_type": "markdown",
   "id": "4a3ba35f-22cd-406a-a98d-8ccf70fcc14f",
   "metadata": {},
   "source": [
    "Find:"
   ]
  },
  {
   "cell_type": "code",
   "execution_count": 30,
   "id": "d2c4484c-1bfe-419b-b2f8-8b05c10e979a",
   "metadata": {
    "collapsed": true,
    "jupyter": {
     "outputs_hidden": true,
     "source_hidden": true
    }
   },
   "outputs": [],
   "source": [
    "fruits = ['orange', 'apple', 'pear', 'banana', 'kiwi', 'apple', 'banana']"
   ]
  },
  {
   "cell_type": "markdown",
   "id": "a36dbefc-dc2f-4413-ae34-f076bd528cd9",
   "metadata": {},
   "source": [
    " How many times 'apple' is in the list."
   ]
  },
  {
   "cell_type": "code",
   "execution_count": 31,
   "id": "fa3d24d0-0d30-4b0e-be71-38e540404a68",
   "metadata": {
    "collapsed": true,
    "jupyter": {
     "outputs_hidden": true,
     "source_hidden": true
    }
   },
   "outputs": [
    {
     "data": {
      "text/plain": [
       "2"
      ]
     },
     "execution_count": 31,
     "metadata": {},
     "output_type": "execute_result"
    }
   ],
   "source": [
    "fruits.count('apple')"
   ]
  },
  {
   "cell_type": "markdown",
   "id": "0d0be996-6e9d-4550-a776-2bf8fde287de",
   "metadata": {},
   "source": [
    "First time 'pear' is found."
   ]
  },
  {
   "cell_type": "code",
   "execution_count": 32,
   "id": "57222370-474b-4c92-8ff4-5c1501cbf511",
   "metadata": {
    "collapsed": true,
    "jupyter": {
     "outputs_hidden": true,
     "source_hidden": true
    }
   },
   "outputs": [
    {
     "data": {
      "text/plain": [
       "2"
      ]
     },
     "execution_count": 32,
     "metadata": {},
     "output_type": "execute_result"
    }
   ],
   "source": [
    "fruits.index('pear')"
   ]
  },
  {
   "cell_type": "markdown",
   "id": "2466f65e-a2c4-455d-906f-92f89bc15302",
   "metadata": {},
   "source": [
    "Which methods modify the original list and return the default `None`?"
   ]
  },
  {
   "cell_type": "code",
   "execution_count": 33,
   "id": "7b198075-c60e-4eb8-b2ce-3eaf1c1f706f",
   "metadata": {
    "collapsed": true,
    "jupyter": {
     "outputs_hidden": true,
     "source_hidden": true
    }
   },
   "outputs": [
    {
     "name": "stdout",
     "output_type": "stream",
     "text": [
      "['orange', 'apple', 'pear', 'banana', 'kiwi', 'apple', 'banana']\n",
      "None\n",
      "None\n",
      "None\n",
      "['apple', 'banana', 'banana', 'carrot', 'kiwi', 'orange', 'pear']\n"
     ]
    }
   ],
   "source": [
    "print(fruits)\n",
    "print(fruits.insert(2,'carrot'))\n",
    "print(fruits.sort())\n",
    "print(fruits.remove('apple'))\n",
    "print(fruits)"
   ]
  },
  {
   "cell_type": "markdown",
   "id": "7f20ebc4-1d41-45bd-abb5-06754dd33559",
   "metadata": {},
   "source": [
    "### 5.1.1. Using Lists as Stacks"
   ]
  },
  {
   "cell_type": "markdown",
   "id": "c4269aef-038a-4779-9c50-5bcd2195ae9c",
   "metadata": {},
   "source": [
    "Implement a stack. Add an element, then retrieve two elements."
   ]
  },
  {
   "cell_type": "code",
   "execution_count": 37,
   "id": "51c5cc91-84d8-40a9-93d2-cfcd0220f0d8",
   "metadata": {
    "tags": []
   },
   "outputs": [],
   "source": [
    "stack = list('abcd')"
   ]
  },
  {
   "cell_type": "code",
   "execution_count": 36,
   "id": "bd67bce8-37b2-49f6-a3e2-5da5209df243",
   "metadata": {
    "tags": []
   },
   "outputs": [
    {
     "data": {
      "text/plain": [
       "['a', 'b']"
      ]
     },
     "execution_count": 36,
     "metadata": {},
     "output_type": "execute_result"
    }
   ],
   "source": [
    "stack.append('0')\n",
    "stack.pop()\n",
    "stack.pop()\n",
    "stack"
   ]
  },
  {
   "cell_type": "markdown",
   "id": "3cf9c520-5d62-4b13-b2b7-a6bb1cca0c8d",
   "metadata": {},
   "source": [
    "### 5.1.2. Using Lists as Queues"
   ]
  },
  {
   "cell_type": "markdown",
   "id": "3a192c97-b340-4785-8686-17db78c95649",
   "metadata": {},
   "source": [
    "Implement a queue. Add an element, and retrieve 1 element."
   ]
  },
  {
   "cell_type": "code",
   "execution_count": 41,
   "id": "3a9f22ab-b235-4989-99d3-135065eef008",
   "metadata": {
    "tags": []
   },
   "outputs": [
    {
     "name": "stdout",
     "output_type": "stream",
     "text": [
      "deque(['a', 'b', 'c', 'd'])\n",
      "deque(['a', 'b', 'c', 'd', 'k'])\n",
      "deque(['b', 'c', 'd', 'k'])\n"
     ]
    }
   ],
   "source": [
    "from collections import deque\n",
    "queue = deque(list('abcd'))\n",
    "print(queue)\n",
    "\n",
    "queue.append('k')\n",
    "print(queue)\n",
    "\n",
    "queue.popleft()\n",
    "print(queue)"
   ]
  },
  {
   "cell_type": "markdown",
   "id": "816d2ebc-f45b-42ca-8e08-68c5b690eb54",
   "metadata": {},
   "source": [
    "### 5.1.3. List Comprehensions"
   ]
  },
  {
   "cell_type": "markdown",
   "id": "ba66f281-b1a3-408a-ab0d-b492069c6f8c",
   "metadata": {},
   "source": [
    "Create a list with the squares of numbers from 1 to 10. Use: A) comprehension, B) map."
   ]
  },
  {
   "cell_type": "code",
   "execution_count": 44,
   "id": "f5a7f5d9-6585-46b0-ad83-b38e66a3940c",
   "metadata": {},
   "outputs": [
    {
     "name": "stdout",
     "output_type": "stream",
     "text": [
      "[1, 4, 9, 16, 25, 36, 49, 64, 81, 100]\n",
      "[1, 4, 9, 16, 25, 36, 49, 64, 81, 100]\n"
     ]
    }
   ],
   "source": [
    "print(list(map(lambda x: x ** 2, range(1, 11))))\n",
    "\n",
    "print([x**2 for x in range(1, 11)])"
   ]
  },
  {
   "cell_type": "markdown",
   "id": "5b8228cc-01c1-46a0-bc36-8fb8b8ecc4dc",
   "metadata": {},
   "source": [
    "Filter the list to exclude negative numbers."
   ]
  },
  {
   "cell_type": "code",
   "execution_count": 45,
   "id": "b29b74fc-f3bd-4b33-956b-b5b76c930c5f",
   "metadata": {},
   "outputs": [],
   "source": [
    "ll = [1, -2, -5, 8]"
   ]
  },
  {
   "cell_type": "code",
   "execution_count": 47,
   "id": "33106db3-75f0-47c5-bbec-9f4e22eaecb1",
   "metadata": {},
   "outputs": [
    {
     "data": {
      "text/plain": [
       "[1, 8]"
      ]
     },
     "execution_count": 47,
     "metadata": {},
     "output_type": "execute_result"
    }
   ],
   "source": [
    "[x for x in ll if x > 0]"
   ]
  },
  {
   "cell_type": "markdown",
   "id": "9fb85b1b-2c59-4090-9828-7069d0f7a20f",
   "metadata": {},
   "source": [
    "Call a method on each element."
   ]
  },
  {
   "cell_type": "code",
   "execution_count": 52,
   "id": "d036c161-5f60-48cc-b805-cccf6eea1737",
   "metadata": {},
   "outputs": [],
   "source": [
    "ll = [1, -2, -5, 8]"
   ]
  },
  {
   "cell_type": "code",
   "execution_count": 53,
   "id": "ce9aea8c-5fee-4660-93a8-448f2762f83e",
   "metadata": {},
   "outputs": [
    {
     "data": {
      "text/plain": [
       "[1, 2, 5, 8]"
      ]
     },
     "execution_count": 53,
     "metadata": {},
     "output_type": "execute_result"
    }
   ],
   "source": [
    "[abs(x) for x in ll]"
   ]
  },
  {
   "cell_type": "markdown",
   "id": "7c7730b8-c462-465d-a1fb-baccc3ecf1af",
   "metadata": {},
   "source": [
    "Flatten a 2d list."
   ]
  },
  {
   "cell_type": "code",
   "execution_count": 54,
   "id": "69a479f3-ad72-4784-bd0c-178646df68c0",
   "metadata": {},
   "outputs": [],
   "source": [
    "vec = [[1,2,3], [4,5,6], [7,8,9]]"
   ]
  },
  {
   "cell_type": "code",
   "execution_count": 56,
   "id": "26bb135f-0d5e-4ec4-9bf0-5376ae587beb",
   "metadata": {},
   "outputs": [
    {
     "data": {
      "text/plain": [
       "[1, 2, 3, 4, 5, 6, 7, 8, 9]"
      ]
     },
     "execution_count": 56,
     "metadata": {},
     "output_type": "execute_result"
    }
   ],
   "source": [
    "[el for row in vec for el in row]"
   ]
  },
  {
   "cell_type": "markdown",
   "id": "7fd1c94a-1dad-42d7-a071-c9061f8307bf",
   "metadata": {},
   "source": [
    "Remove the 2 and 3rd element."
   ]
  },
  {
   "cell_type": "code",
   "execution_count": 57,
   "id": "20218548-c8f0-4fae-800a-427f937885e0",
   "metadata": {},
   "outputs": [],
   "source": [
    "a = [-1, 1, 66.25, 333, 333, 1234.5]"
   ]
  },
  {
   "cell_type": "code",
   "execution_count": 60,
   "id": "433c79ef-f46c-404e-912b-bb511f14807d",
   "metadata": {},
   "outputs": [
    {
     "data": {
      "text/plain": [
       "[-1, 1]"
      ]
     },
     "execution_count": 60,
     "metadata": {},
     "output_type": "execute_result"
    }
   ],
   "source": [
    "del a[2:4]\n",
    "a"
   ]
  },
  {
   "cell_type": "markdown",
   "id": "54408421-31bb-4e9e-b614-9d6641225129",
   "metadata": {},
   "source": [
    "## 5.3"
   ]
  },
  {
   "cell_type": "markdown",
   "id": "d73b635f-b54d-4712-ac6a-a779ea71ef75",
   "metadata": {},
   "source": [
    "Create a tuple with 0 and 1 elements."
   ]
  },
  {
   "cell_type": "code",
   "execution_count": 66,
   "id": "dc0e00a2-5142-4d78-8880-7c930076e0a7",
   "metadata": {},
   "outputs": [
    {
     "name": "stdout",
     "output_type": "stream",
     "text": [
      "<class 'tuple'>\n",
      "<class 'tuple'>\n",
      "<class 'tuple'>\n",
      "<class 'tuple'>\n"
     ]
    }
   ],
   "source": [
    "t1 = ()\n",
    "t2 = tuple()\n",
    "print(type(t1))\n",
    "print(type(t2))\n",
    "\n",
    "t3 = 'one',\n",
    "t4 = ('two', )\n",
    "print(type(t3))\n",
    "print(type(t4))"
   ]
  },
  {
   "cell_type": "markdown",
   "id": "93aa49a0-7a33-4b32-94bf-3a181ec603f0",
   "metadata": {},
   "source": [
    "Give an example of tuple packing - the action of grouping together several values in a tuple."
   ]
  },
  {
   "cell_type": "code",
   "execution_count": 71,
   "id": "e2045e17-7bc1-4137-aaf1-f8d3a78e364a",
   "metadata": {},
   "outputs": [
    {
     "data": {
      "text/plain": [
       "(1, 5.24, 'asd')"
      ]
     },
     "execution_count": 71,
     "metadata": {},
     "output_type": "execute_result"
    }
   ],
   "source": [
    "x = 5.24\n",
    "t = 1, x, 'asd'\n",
    "t"
   ]
  },
  {
   "cell_type": "markdown",
   "id": "ec8dd68a-0fdd-4776-b9c6-e3a5effffa99",
   "metadata": {},
   "source": [
    "Give example of sequence unpacking."
   ]
  },
  {
   "cell_type": "code",
   "execution_count": 73,
   "id": "996101e6-a0e3-4d48-aa84-4f3b551a79bb",
   "metadata": {},
   "outputs": [
    {
     "name": "stdout",
     "output_type": "stream",
     "text": [
      "1 5 2\n"
     ]
    }
   ],
   "source": [
    "t = (1, 5, 2)\n",
    "a, b, c = t\n",
    "print(a, b, c)"
   ]
  },
  {
   "cell_type": "markdown",
   "id": "77c0a446-ec75-4041-8d1b-45ae7f39cdbb",
   "metadata": {},
   "source": [
    "## 5.4. Sets"
   ]
  },
  {
   "cell_type": "markdown",
   "id": "edd37982-3b70-472e-b236-e99a98eccde6",
   "metadata": {},
   "source": [
    "Create an empty set."
   ]
  },
  {
   "cell_type": "code",
   "execution_count": 76,
   "id": "4948dca1-5cf7-41de-9665-844a0314c6b5",
   "metadata": {},
   "outputs": [
    {
     "name": "stdout",
     "output_type": "stream",
     "text": [
      "<class 'set'>\n",
      "<class 'dict'>\n"
     ]
    }
   ],
   "source": [
    "print(type(set()))\n",
    "\n",
    "print(type({}))"
   ]
  },
  {
   "cell_type": "markdown",
   "id": "7f9161c6-575e-45b9-b9a8-154221cee5e7",
   "metadata": {},
   "source": [
    "Find the unique letters in 'abracadabra'."
   ]
  },
  {
   "cell_type": "code",
   "execution_count": 78,
   "id": "cd01c896-0b03-42b6-b54e-b81d61c7d2d1",
   "metadata": {},
   "outputs": [
    {
     "data": {
      "text/plain": [
       "{'a', 'b', 'c', 'd', 'r'}"
      ]
     },
     "execution_count": 78,
     "metadata": {},
     "output_type": "execute_result"
    }
   ],
   "source": [
    "set('abracadabra')"
   ]
  },
  {
   "cell_type": "markdown",
   "id": "154b69e7-98db-4914-8b4d-925bf997a6d4",
   "metadata": {},
   "source": [
    "Find the unique vowels (aeoui) in 'abracadabra'."
   ]
  },
  {
   "cell_type": "code",
   "execution_count": 81,
   "id": "53508dc8-08cf-4795-b47f-6b5bf4b98304",
   "metadata": {},
   "outputs": [
    {
     "data": {
      "text/plain": [
       "{'b', 'c', 'd', 'r'}"
      ]
     },
     "execution_count": 81,
     "metadata": {},
     "output_type": "execute_result"
    }
   ],
   "source": [
    "# Set comprehension\n",
    "{c for c in 'abracadabra' if c not in 'aeoui'}"
   ]
  },
  {
   "cell_type": "markdown",
   "id": "9eb73090-7517-4aab-89b0-f473dfbe653b",
   "metadata": {},
   "source": [
    "## 5.5. Dictionaries"
   ]
  },
  {
   "cell_type": "markdown",
   "id": "6a55e28d-b70b-4b4f-8d88-866d406a1afd",
   "metadata": {},
   "source": [
    "Give examples how dictionaries are called in other languages. "
   ]
  },
  {
   "cell_type": "code",
   "execution_count": 83,
   "id": "b20497c8-21b2-4f43-8e3c-e7138810f02f",
   "metadata": {},
   "outputs": [],
   "source": [
    " # “associative memories” or “associative arrays”"
   ]
  },
  {
   "cell_type": "markdown",
   "id": "284347a7-5ee1-49a2-ad4e-91c7458f831b",
   "metadata": {},
   "source": [
    "Create dict from a list."
   ]
  },
  {
   "cell_type": "code",
   "execution_count": 87,
   "id": "a35c8a29-65b8-4a41-91f7-5d509254316d",
   "metadata": {},
   "outputs": [
    {
     "data": {
      "text/plain": [
       "{'one': 1, 'two': 2}"
      ]
     },
     "execution_count": 87,
     "metadata": {},
     "output_type": "execute_result"
    }
   ],
   "source": [
    "dict([('one', 1), ('two', 2)])"
   ]
  },
  {
   "cell_type": "markdown",
   "id": "f87336d8-d91d-4278-857c-ea9f9e2f6982",
   "metadata": {},
   "source": [
    "Create dict of pairs x, x^2 for the numbers 1-10."
   ]
  },
  {
   "cell_type": "code",
   "execution_count": 89,
   "id": "4d51b14a-ed78-444b-96a2-09c6e7696f5b",
   "metadata": {},
   "outputs": [
    {
     "data": {
      "text/plain": [
       "{1: 1, 2: 4, 3: 9, 4: 16, 5: 25, 6: 36, 7: 49, 8: 64, 9: 81, 10: 100}"
      ]
     },
     "execution_count": 89,
     "metadata": {},
     "output_type": "execute_result"
    }
   ],
   "source": [
    "{x: x**2 for x in range(1,11)}"
   ]
  },
  {
   "cell_type": "code",
   "execution_count": 89,
   "id": "56b51a82-24d1-490f-a1e8-22d9eadfab32",
   "metadata": {},
   "outputs": [
    {
     "data": {
      "text/plain": [
       "{1: 1, 2: 4, 3: 9, 4: 16, 5: 25, 6: 36, 7: 49, 8: 64, 9: 81, 10: 100}"
      ]
     },
     "execution_count": 89,
     "metadata": {},
     "output_type": "execute_result"
    }
   ],
   "source": [
    "{x: x**2 for x in range(1,11)}"
   ]
  },
  {
   "cell_type": "markdown",
   "id": "e5383ab5-5ef9-4c00-88b8-58f792f394b5",
   "metadata": {},
   "source": [
    "Get sorted keys of a dict."
   ]
  },
  {
   "cell_type": "markdown",
   "id": "a37991e7-d00d-4346-b150-73f6dbc1b9ef",
   "metadata": {
    "tags": []
   },
   "source": [
    "## 5.6. Looping Techniques"
   ]
  },
  {
   "cell_type": "markdown",
   "id": "f49e7f12-b93e-4c01-8e55-18691e4695e6",
   "metadata": {},
   "source": [
    "Loop trough a sequence, print both position index and value. "
   ]
  },
  {
   "cell_type": "code",
   "execution_count": 2,
   "id": "894bc159-bcf9-4189-a09a-9af948bca8bd",
   "metadata": {
    "tags": []
   },
   "outputs": [],
   "source": [
    "ll = list('abc')"
   ]
  },
  {
   "cell_type": "code",
   "execution_count": 3,
   "id": "d4b1a3aa-8544-4a3d-84aa-a70e221fc182",
   "metadata": {
    "collapsed": true,
    "jupyter": {
     "outputs_hidden": true,
     "source_hidden": true
    },
    "tags": []
   },
   "outputs": [
    {
     "name": "stdout",
     "output_type": "stream",
     "text": [
      "0 a\n",
      "1 b\n",
      "2 c\n"
     ]
    }
   ],
   "source": [
    "for i, v in enumerate(ll):\n",
    "    print(i, v)"
   ]
  },
  {
   "cell_type": "markdown",
   "id": "b2691f1d-f0e3-4562-ba87-2d1be388f7b0",
   "metadata": {},
   "source": [
    "Loop over two sequences at the same time."
   ]
  },
  {
   "cell_type": "code",
   "execution_count": 4,
   "id": "f37c987b-1dab-4caf-9e78-ebd711e9b9bb",
   "metadata": {
    "collapsed": true,
    "jupyter": {
     "outputs_hidden": true,
     "source_hidden": true
    },
    "tags": []
   },
   "outputs": [],
   "source": [
    "questions = ['name', 'quest', 'favorite color']\n",
    "answers = ['lancelot', 'the holy grail', 'blue']"
   ]
  },
  {
   "cell_type": "code",
   "execution_count": 6,
   "id": "3f8dbf43-44e7-4501-8b7a-0ab84072a2f8",
   "metadata": {
    "collapsed": true,
    "jupyter": {
     "outputs_hidden": true,
     "source_hidden": true
    },
    "tags": []
   },
   "outputs": [
    {
     "name": "stdout",
     "output_type": "stream",
     "text": [
      "name lancelot\n",
      "quest the holy grail\n",
      "favorite color blue\n"
     ]
    }
   ],
   "source": [
    "for q, a in zip(questions, answers):\n",
    "    print(q, a)"
   ]
  },
  {
   "cell_type": "markdown",
   "id": "2b1c95f2-d3ad-48af-9a39-8318c470d4cc",
   "metadata": {},
   "source": [
    "Loop over sequence in sorted or reversed order."
   ]
  },
  {
   "cell_type": "code",
   "execution_count": 7,
   "id": "c552910e-26a2-43fa-9505-cebb8d8c4b82",
   "metadata": {
    "collapsed": true,
    "jupyter": {
     "outputs_hidden": true,
     "source_hidden": true
    }
   },
   "outputs": [],
   "source": [
    "basket = ['apple', 'orange', 'apple', 'pear', 'orange', 'banana']"
   ]
  },
  {
   "cell_type": "code",
   "execution_count": 8,
   "id": "1548e4e2-74a6-45a5-a91a-ef8f6d61a91f",
   "metadata": {
    "collapsed": true,
    "jupyter": {
     "outputs_hidden": true,
     "source_hidden": true
    }
   },
   "outputs": [
    {
     "name": "stdout",
     "output_type": "stream",
     "text": [
      "apple\n",
      "apple\n",
      "banana\n",
      "orange\n",
      "orange\n",
      "pear\n"
     ]
    }
   ],
   "source": [
    "for fruit in sorted(basket):\n",
    "    print(fruit)"
   ]
  },
  {
   "cell_type": "markdown",
   "id": "acd778ca-f408-4606-ba0c-ef0585e16673",
   "metadata": {},
   "source": [
    "Loop over unique elements in a sequence."
   ]
  },
  {
   "cell_type": "code",
   "execution_count": 9,
   "id": "255490cc-ddbe-4b9c-878e-7b5fbaa70a95",
   "metadata": {
    "collapsed": true,
    "jupyter": {
     "outputs_hidden": true,
     "source_hidden": true
    }
   },
   "outputs": [],
   "source": [
    "basket = ['apple', 'orange', 'apple', 'pear', 'orange', 'banana']"
   ]
  },
  {
   "cell_type": "code",
   "execution_count": 10,
   "id": "6b6e35b3-4d88-4db8-bbc3-7e83c40d4509",
   "metadata": {
    "collapsed": true,
    "jupyter": {
     "outputs_hidden": true,
     "source_hidden": true
    }
   },
   "outputs": [
    {
     "data": {
      "text/plain": [
       "['apple', 'banana', 'orange', 'pear']"
      ]
     },
     "execution_count": 10,
     "metadata": {},
     "output_type": "execute_result"
    }
   ],
   "source": [
    "sorted(set(basket))"
   ]
  }
 ],
 "metadata": {
  "kernelspec": {
   "display_name": "Python 3 (ipykernel)",
   "language": "python",
   "name": "python3"
  },
  "language_info": {
   "codemirror_mode": {
    "name": "ipython",
    "version": 3
   },
   "file_extension": ".py",
   "mimetype": "text/x-python",
   "name": "python",
   "nbconvert_exporter": "python",
   "pygments_lexer": "ipython3",
   "version": "3.10.5"
  }
 },
 "nbformat": 4,
 "nbformat_minor": 5
}
